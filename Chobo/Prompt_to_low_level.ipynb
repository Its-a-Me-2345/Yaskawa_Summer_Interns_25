{
 "cells": [
  {
   "cell_type": "code",
   "execution_count": 65,
   "id": "e0d78ecd",
   "metadata": {},
   "outputs": [],
   "source": [
    "import transformers\n",
    "from transformers import BartTokenizer, BartForConditionalGeneration\n",
    "import torch\n",
    "from torch.utils.data import DataLoader\n",
    "import torch.optim as optim\n",
    "\n",
    "device = torch.device(\"cuda\")\n",
    "tokenizer = BartTokenizer.from_pretrained(\"facebook/bart-base\")\n",
    "model = BartForConditionalGeneration.from_pretrained(\"facebook/bart-base\").to(device)"
   ]
  },
  {
   "cell_type": "code",
   "execution_count": 66,
   "id": "e4acf878",
   "metadata": {},
   "outputs": [
    {
     "name": "stdout",
     "output_type": "stream",
     "text": [
      "Move Up by 25 cm\n"
     ]
    }
   ],
   "source": [
    "import json\n",
    "from torch.utils.data import Dataset, DataLoader\n",
    "\n",
    "class JsonDataset(Dataset):\n",
    "    def __init__(self, json_file):\n",
    "        with open(json_file, 'r') as f:\n",
    "            self.data = json.load(f)\n",
    "\n",
    "    def __len__(self):\n",
    "        return len(self.data)\n",
    "\n",
    "    def __getitem__(self, idx):\n",
    "        input_text = self.data[idx][\"Text_inputs\"]\n",
    "        output_text = self.data[idx][\"Outputs\"]\n",
    "        return input_text, output_text\n",
    "\n",
    "inputs = tokenizer(\n",
    "    \"Move Up by 25 cm\",\n",
    "    return_tensors=\"pt\",\n",
    "    truncation=True,\n",
    "    padding=True,\n",
    "    max_length=512,\n",
    ").to(model.device)\n",
    "\n",
    "generated_ids = model.generate(\n",
    "    **inputs,\n",
    "    max_length=512,\n",
    "    num_beams=4,\n",
    "    early_stopping=True,\n",
    ")\n",
    "\n",
    "output_text = tokenizer.decode(generated_ids[0], skip_special_tokens=True)\n",
    "print(output_text)\n",
    "\n",
    "BATCH_SIZE = 64\n",
    "\n",
    "dataset = JsonDataset(\"robot_movements_3000.json\")\n",
    "train_data = DataLoader(dataset, BATCH_SIZE, shuffle=True)\n",
    "\n",
    "optimizer = optim.AdamW(model.parameters(), lr=5e-5)\n",
    "\n",
    "lr_scheduler = optim.lr_scheduler.StepLR(optimizer, step_size=1, gamma=0.95)"
   ]
  },
  {
   "cell_type": "code",
   "execution_count": 67,
   "id": "5aa538be",
   "metadata": {},
   "outputs": [],
   "source": [
    "def train(model, tokenizer, train_data, device, epochs=20, lr=5e-5):\n",
    "    model.to(device)\n",
    "    model.train()\n",
    "\n",
    "    optimizer = torch.optim.AdamW(model.parameters(), lr=lr)\n",
    "\n",
    "    for epoch in range(epochs):\n",
    "        total_loss = 0\n",
    "\n",
    "        for input_texts, output_texts in train_data:\n",
    "            # Tokenize inputs\n",
    "            inputs = tokenizer(\n",
    "                list(input_texts),\n",
    "                return_tensors=\"pt\",\n",
    "                padding=True,\n",
    "                truncation=True,\n",
    "                max_length=100\n",
    "            )\n",
    "            inputs = {k: v.to(device) for k, v in inputs.items()}\n",
    "\n",
    "            # Tokenize labels\n",
    "            labels = tokenizer(\n",
    "                list(output_texts),\n",
    "                return_tensors=\"pt\",\n",
    "                padding=True,\n",
    "                truncation=True,\n",
    "                max_length=70\n",
    "            ).input_ids.to(device)\n",
    "            labels[labels == tokenizer.pad_token_id] = -100  # Ignore padding in loss\n",
    "\n",
    "            # Forward pass with internal loss\n",
    "            outputs = model(**inputs, labels=labels)\n",
    "            loss = outputs.loss\n",
    "\n",
    "\n",
    "            # Backpropagation\n",
    "            loss.backward()\n",
    "            optimizer.step()\n",
    "            optimizer.zero_grad()\n",
    "\n",
    "            total_loss += loss.item()\n",
    "\n",
    "        avg_loss = total_loss / len(train_data)\n",
    "        print(f\"Epoch {epoch + 1}, Avg Loss: {avg_loss:.4f}\")\n",
    "\n",
    "def evaluate(model, tokenizer, input_text, device):\n",
    "    model.eval()\n",
    "    inputs = tokenizer(input_text, return_tensors=\"pt\").to(device)\n",
    "    outputs = model.generate(**inputs)\n",
    "    return tokenizer.decode(outputs[0], skip_special_tokens=True, truncation=False, max_length = 512)"
   ]
  },
  {
   "cell_type": "code",
   "execution_count": 68,
   "id": "216a3e06",
   "metadata": {},
   "outputs": [],
   "source": [
    "# train(model, tokenizer, train_data, device)"
   ]
  },
  {
   "cell_type": "code",
   "execution_count": 69,
   "id": "b10164c9",
   "metadata": {},
   "outputs": [],
   "source": [
    "# torch.save(model.state_dict(), \"BART.pth\")"
   ]
  },
  {
   "cell_type": "code",
   "execution_count": 70,
   "id": "e0a2bd76",
   "metadata": {},
   "outputs": [],
   "source": [
    "def evaluate(model, tokenizer, input_text, device):\n",
    "    model.eval()\n",
    "    inputs = tokenizer(input_text, return_tensors=\"pt\").to(device)\n",
    "    outputs = model.generate(**inputs)\n",
    "\n",
    "    output = tokenizer.decode(outputs[0], skip_special_tokens=False)\n",
    "    print(output)\n",
    "\n",
    "    return tokenizer.decode(outputs[0], skip_special_tokens=True, truncation=False)"
   ]
  },
  {
   "cell_type": "code",
   "execution_count": 71,
   "id": "24e6feee",
   "metadata": {},
   "outputs": [
    {
     "name": "stderr",
     "output_type": "stream",
     "text": [
      "C:\\Users\\MSI-Admin\\AppData\\Local\\Temp\\ipykernel_26996\\184502733.py:1: FutureWarning: You are using `torch.load` with `weights_only=False` (the current default value), which uses the default pickle module implicitly. It is possible to construct malicious pickle data which will execute arbitrary code during unpickling (See https://github.com/pytorch/pytorch/blob/main/SECURITY.md#untrusted-models for more details). In a future release, the default value for `weights_only` will be flipped to `True`. This limits the functions that could be executed during unpickling. Arbitrary objects will no longer be allowed to be loaded via this mode unless they are explicitly allowlisted by the user via `torch.serialization.add_safe_globals`. We recommend you start setting `weights_only=True` for any use case where you don't have full control of the loaded file. Please open an issue on GitHub for any issues related to this experimental feature.\n",
      "  model.load_state_dict(torch.load(\"BART.pth\"))\n"
     ]
    },
    {
     "name": "stdout",
     "output_type": "stream",
     "text": [
      "</s><s>Y += 25, X += 15, Z += 16, End Task</s>\n",
      "Input: Move forward by 25 then right by 15 and up by 16\n",
      "Output: Y += 25, X += 15, Z += 16, End Task\n"
     ]
    }
   ],
   "source": [
    "model.load_state_dict(torch.load(\"BART.pth\"))\n",
    "\n",
    "input_text = \"Move forward by 25 then right by 15 and up by 16\"\n",
    "output_text = evaluate(model, tokenizer, input_text, device)\n",
    "print(f\"Input: {input_text}\")\n",
    "print(f\"Output: {output_text}\")"
   ]
  }
 ],
 "metadata": {
  "kernelspec": {
   "display_name": "intern_env",
   "language": "python",
   "name": "python3"
  },
  "language_info": {
   "codemirror_mode": {
    "name": "ipython",
    "version": 3
   },
   "file_extension": ".py",
   "mimetype": "text/x-python",
   "name": "python",
   "nbconvert_exporter": "python",
   "pygments_lexer": "ipython3",
   "version": "3.10.9"
  }
 },
 "nbformat": 4,
 "nbformat_minor": 5
}
