{
 "cells": [
  {
   "cell_type": "code",
   "execution_count": 6,
   "id": "053963b0",
   "metadata": {},
   "outputs": [
    {
     "name": "stderr",
     "output_type": "stream",
     "text": [
      "C:\\Users\\MSI-Admin\\AppData\\Local\\Temp\\ipykernel_28396\\4247982673.py:11: FutureWarning: You are using `torch.load` with `weights_only=False` (the current default value), which uses the default pickle module implicitly. It is possible to construct malicious pickle data which will execute arbitrary code during unpickling (See https://github.com/pytorch/pytorch/blob/main/SECURITY.md#untrusted-models for more details). In a future release, the default value for `weights_only` will be flipped to `True`. This limits the functions that could be executed during unpickling. Arbitrary objects will no longer be allowed to be loaded via this mode unless they are explicitly allowlisted by the user via `torch.serialization.add_safe_globals`. We recommend you start setting `weights_only=True` for any use case where you don't have full control of the loaded file. Please open an issue on GitHub for any issues related to this experimental feature.\n",
      "  state_dict = torch.load(\"BART.pth\", map_location=device)  # or \"cuda\" if using GPU\n"
     ]
    },
    {
     "data": {
      "text/plain": [
       "BartForConditionalGeneration(\n",
       "  (model): BartModel(\n",
       "    (shared): BartScaledWordEmbedding(50265, 768, padding_idx=1)\n",
       "    (encoder): BartEncoder(\n",
       "      (embed_tokens): BartScaledWordEmbedding(50265, 768, padding_idx=1)\n",
       "      (embed_positions): BartLearnedPositionalEmbedding(1026, 768)\n",
       "      (layers): ModuleList(\n",
       "        (0-5): 6 x BartEncoderLayer(\n",
       "          (self_attn): BartAttention(\n",
       "            (k_proj): Linear(in_features=768, out_features=768, bias=True)\n",
       "            (v_proj): Linear(in_features=768, out_features=768, bias=True)\n",
       "            (q_proj): Linear(in_features=768, out_features=768, bias=True)\n",
       "            (out_proj): Linear(in_features=768, out_features=768, bias=True)\n",
       "          )\n",
       "          (self_attn_layer_norm): LayerNorm((768,), eps=1e-05, elementwise_affine=True)\n",
       "          (activation_fn): GELUActivation()\n",
       "          (fc1): Linear(in_features=768, out_features=3072, bias=True)\n",
       "          (fc2): Linear(in_features=3072, out_features=768, bias=True)\n",
       "          (final_layer_norm): LayerNorm((768,), eps=1e-05, elementwise_affine=True)\n",
       "        )\n",
       "      )\n",
       "      (layernorm_embedding): LayerNorm((768,), eps=1e-05, elementwise_affine=True)\n",
       "    )\n",
       "    (decoder): BartDecoder(\n",
       "      (embed_tokens): BartScaledWordEmbedding(50265, 768, padding_idx=1)\n",
       "      (embed_positions): BartLearnedPositionalEmbedding(1026, 768)\n",
       "      (layers): ModuleList(\n",
       "        (0-5): 6 x BartDecoderLayer(\n",
       "          (self_attn): BartAttention(\n",
       "            (k_proj): Linear(in_features=768, out_features=768, bias=True)\n",
       "            (v_proj): Linear(in_features=768, out_features=768, bias=True)\n",
       "            (q_proj): Linear(in_features=768, out_features=768, bias=True)\n",
       "            (out_proj): Linear(in_features=768, out_features=768, bias=True)\n",
       "          )\n",
       "          (activation_fn): GELUActivation()\n",
       "          (self_attn_layer_norm): LayerNorm((768,), eps=1e-05, elementwise_affine=True)\n",
       "          (encoder_attn): BartAttention(\n",
       "            (k_proj): Linear(in_features=768, out_features=768, bias=True)\n",
       "            (v_proj): Linear(in_features=768, out_features=768, bias=True)\n",
       "            (q_proj): Linear(in_features=768, out_features=768, bias=True)\n",
       "            (out_proj): Linear(in_features=768, out_features=768, bias=True)\n",
       "          )\n",
       "          (encoder_attn_layer_norm): LayerNorm((768,), eps=1e-05, elementwise_affine=True)\n",
       "          (fc1): Linear(in_features=768, out_features=3072, bias=True)\n",
       "          (fc2): Linear(in_features=3072, out_features=768, bias=True)\n",
       "          (final_layer_norm): LayerNorm((768,), eps=1e-05, elementwise_affine=True)\n",
       "        )\n",
       "      )\n",
       "      (layernorm_embedding): LayerNorm((768,), eps=1e-05, elementwise_affine=True)\n",
       "    )\n",
       "  )\n",
       "  (lm_head): Linear(in_features=768, out_features=50265, bias=False)\n",
       ")"
      ]
     },
     "execution_count": 6,
     "metadata": {},
     "output_type": "execute_result"
    }
   ],
   "source": [
    "import transformers\n",
    "from transformers import BartTokenizer, BartForConditionalGeneration\n",
    "import torch\n",
    "from torch.utils.data import DataLoader\n",
    "import torch.optim as optim\n",
    "\n",
    "device = torch.device(\"cuda\")\n",
    "tokenizer = BartTokenizer.from_pretrained(\"facebook/bart-base\")\n",
    "model = BartForConditionalGeneration.from_pretrained(\"facebook/bart-base\")\n",
    "\n",
    "state_dict = torch.load(\"BART.pth\", map_location=device)  # or \"cuda\" if using GPU\n",
    "model.load_state_dict(state_dict)\n",
    "\n",
    "model.to(device)\n",
    "model.eval()"
   ]
  },
  {
   "cell_type": "code",
   "execution_count": 7,
   "id": "1620905c",
   "metadata": {},
   "outputs": [],
   "source": [
    "def evaluate(model, tokenizer, input_text, device):\n",
    "    model.eval()\n",
    "    inputs = tokenizer(input_text, return_tensors=\"pt\").to(device)\n",
    "    outputs = model.generate(**inputs)\n",
    "\n",
    "    output = tokenizer.decode(outputs[0], skip_special_tokens=False)\n",
    "\n",
    "    return tokenizer.decode(outputs[0], skip_special_tokens=True, truncation=False)"
   ]
  },
  {
   "cell_type": "code",
   "execution_count": 9,
   "id": "7d8b8705",
   "metadata": {},
   "outputs": [
    {
     "name": "stdout",
     "output_type": "stream",
     "text": [
      "User: right 2\n",
      "Output: X += 2, End Task\n",
      "User: up 15\n",
      "Output: Z += 15, End Task\n",
      "User: left 6\n",
      "Output: X += 6, End Task\n",
      "User: move down by 16\n",
      "Output: Z -= 16, End Task\n",
      "User: move to the right by 18\n",
      "Output: label, X += 18, End Task\n",
      "User: move up by 19\n",
      "Output: Z += 19, End Task\n",
      "User: move forward by 16 and then to the right by 7\n",
      "Output: Y += 16, Z += 7, End Task\n",
      "User: down by 7\n",
      "Output: Z -= 7, End Task\n",
      "User: right by 7\n",
      "Output: X += 7, End Task\n",
      "Chat Ended\n"
     ]
    }
   ],
   "source": [
    "user = \"\"\n",
    "\n",
    "with open(\"chat_output.txt\", \"w\") as file:\n",
    "    while user != \"-1\":\n",
    "        user = input(\"Enter command: \")\n",
    "        if user != \"-1\":\n",
    "            output = evaluate(model, tokenizer, user, device)\n",
    "            print(f\"User: {user}\")\n",
    "            print(f\"Output: {output}\")\n",
    "\n",
    "            file.write(f\"User: {user}\\n\")\n",
    "            file.write(f\"Output: {output}\\n\\n\")\n",
    "\n",
    "print(\"Chat Ended\")"
   ]
  },
  {
   "cell_type": "code",
   "execution_count": 11,
   "id": "e0d12f88",
   "metadata": {},
   "outputs": [
    {
     "name": "stdout",
     "output_type": "stream",
     "text": [
      "Saved to movement_increments.csv\n"
     ]
    },
    {
     "data": {
      "text/plain": [
       "CompletedProcess(args=['git', 'push'], returncode=0)"
      ]
     },
     "execution_count": 11,
     "metadata": {},
     "output_type": "execute_result"
    }
   ],
   "source": [
    "import pandas as pd\n",
    "\n",
    "increments = []\n",
    "\n",
    "with open(\"chat_output.txt\", \"r\") as file:\n",
    "    for line in file:\n",
    "        line = line.strip()\n",
    "        if line.startswith(\"Output:\"):\n",
    "            output_line = line.replace(\"Output:\", \"\").strip().replace(\"End Task\", \"\")\n",
    "            parts = output_line.split(\",\")\n",
    "\n",
    "            for part in parts:\n",
    "                part = part.strip()\n",
    "                dx = dy = dz = 0\n",
    "                if part.startswith(\"X +=\"):\n",
    "                    dx = int(part.split(\"+=\")[1].strip())\n",
    "                elif part.startswith(\"X -=\"):\n",
    "                    dx = -int(part.split(\"-=\")[1].strip())\n",
    "                elif part.startswith(\"Y +=\"):\n",
    "                    dy = int(part.split(\"+=\")[1].strip())\n",
    "                elif part.startswith(\"Y -=\"):\n",
    "                    dy = -int(part.split(\"-=\")[1].strip())\n",
    "                elif part.startswith(\"Z +=\"):\n",
    "                    dz = int(part.split(\"+=\")[1].strip())\n",
    "                elif part.startswith(\"Z -=\"):\n",
    "                    dz = -int(part.split(\"-=\")[1].strip())\n",
    "                else:\n",
    "                    continue\n",
    "\n",
    "                increments.append((dx, dy, dz))\n",
    "\n",
    "df = pd.DataFrame(increments, columns=[\"X\", \"Y\", \"Z\"])\n",
    "df.to_csv(\"movement_increments.csv\", index=False)\n",
    "\n",
    "print(\"Saved to movement_increments.csv\")\n",
    "\n",
    "import subprocess\n",
    "subprocess.run([\"git\", \"add\", \"movement_increments.csv\"])\n",
    "subprocess.run([\"git\", \"commit\", \"-m\", \"Update movement increments (separate lines)\"])\n",
    "subprocess.run([\"git\", \"push\"])"
   ]
  }
 ],
 "metadata": {
  "kernelspec": {
   "display_name": "intern_env",
   "language": "python",
   "name": "python3"
  },
  "language_info": {
   "codemirror_mode": {
    "name": "ipython",
    "version": 3
   },
   "file_extension": ".py",
   "mimetype": "text/x-python",
   "name": "python",
   "nbconvert_exporter": "python",
   "pygments_lexer": "ipython3",
   "version": "3.10.9"
  }
 },
 "nbformat": 4,
 "nbformat_minor": 5
}
